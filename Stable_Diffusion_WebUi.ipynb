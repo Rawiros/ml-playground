{
  "cells": [
    {
      "cell_type": "markdown",
      "metadata": {
        "id": "gfKvWAVnz8OB"
      },
      "source": [
        "Adapted from: https://colab.research.google.com/drive/1AfAmwLMd_Vx33O9IwY2TmO9wKZ8ABRRa"
      ]
    },
    {
      "cell_type": "code",
      "execution_count": null,
      "metadata": {
        "id": "p8FI40sFj9tU"
      },
      "outputs": [],
      "source": [
        "import os\n",
        "os.kill(os.getpid(), 9) # This will crash Colab (required, everything will still be intact so dont worry)"
      ]
    },
    {
      "cell_type": "code",
      "execution_count": null,
      "metadata": {
        "id": "AMBviiq3KeED"
      },
      "outputs": [],
      "source": [
        "import sys\n",
        "sys.version"
      ]
    },
    {
      "cell_type": "code",
      "execution_count": null,
      "metadata": {
        "id": "P0KsRqhDKYc0"
      },
      "outputs": [],
      "source": [
        "!nvidia-smi -L"
      ]
    },
    {
      "cell_type": "markdown",
      "metadata": {
        "id": "OHCtG9MT0jLq"
      },
      "source": [
        "Clone webui repository"
      ]
    },
    {
      "cell_type": "code",
      "execution_count": null,
      "metadata": {
        "id": "sBbcB4vwj_jm"
      },
      "outputs": [],
      "source": [
        "!git clone https://github.com/AUTOMATIC1111/stable-diffusion-webui\n",
        "%cd stable-diffusion-webui"
      ]
    },
    {
      "cell_type": "code",
      "execution_count": null,
      "metadata": {
        "id": "6T3LLEzJ7HOX"
      },
      "outputs": [],
      "source": [
        "#@title install deps for downloading models and scripts\n",
        "!apt install megatools aria2 rsync\n",
        "%pip install nest-asyncio gdown huggingface-hub"
      ]
    },
    {
      "cell_type": "code",
      "execution_count": null,
      "metadata": {
        "id": "Vjobke6R7QKr"
      },
      "outputs": [],
      "source": [
        "import nest_asyncio\n",
        "nest_asyncio.apply()"
      ]
    },
    {
      "cell_type": "code",
      "execution_count": null,
      "metadata": {
        "id": "bzUe_Rg07aFp"
      },
      "outputs": [],
      "source": [
        "#@title Download SD models\n",
        "#@markdown https://rentry.org/sdmodels\n",
        "\n",
        "SD_MODELS_FOLDER = \"/content/stable-diffusion-webui/models/Stable-diffusion\"\n",
        "\n",
        "TRACKERS = \"&tr=udp%3A%2F%2Ftracker.opentrackr.org%3A1337%2Fannounce&tr=udp%3A%2F%2F9.rarbg.com%3A2810%2Fannounce&tr=udp%3A%2F%2Ftracker.openbittorrent.com%3A6969%2Fannounce&tr=udp%3A%2F%2Fopentracker.i2p.rocks%3A6969%2Fannounce&tr=https%3A%2F%2Fopentracker.i2p.rocks%3A443%2Fannounce&tr=http%3A%2F%2Ftracker.openbittorrent.com%3A80%2Fannounce&tr=udp%3A%2F%2Ftracker.torrent.eu.org%3A451%2Fannounce&tr=udp%3A%2F%2Fopen.stealth.si%3A80%2Fannounce&tr=udp%3A%2F%2Ftracker.tiny-vps.com%3A6969%2Fannounce&tr=udp%3A%2F%2Fzecircle.xyz%3A6969%2Fannounce&tr=udp%3A%2F%2Fyahor.ftp.sh%3A6969%2Fannounce&tr=udp%3A%2F%2Fvibe.sleepyinternetfun.xyz%3A1738%2Fannounce&tr=udp%3A%2F%2Fv2.iperson.xyz%3A6969%2Fannounce&tr=udp%3A%2F%2Fuploads.gamecoast.net%3A6969%2Fannounce&tr=udp%3A%2F%2Ftracker2.dler.org%3A80%2Fannounce&tr=udp%3A%2F%2Ftracker1.bt.moack.co.kr%3A80%2Fannounce&tr=udp%3A%2F%2Ftracker.theoks.net%3A6969%2Fannounce&tr=udp%3A%2F%2Ftracker.tcp.exchange%3A6969%2Fannounce&tr=udp%3A%2F%2Ftracker.swateam.org.uk%3A2710%2Fannounce&tr=udp%3A%2F%2Ftracker.publictracker.xyz%3A6969%2Fannounce&tr=http%3A%2F%2Ftracker.bt4g.com%3A2095%2Fannounce&tr=udp%3a%2f%2ftracker.opentrackr.org%3a1337%2fannounce&tr=udp%3a%2f%2f9.rarbg.com%3a2810%2fannounce&tr=udp%3a%2f%2ftracker.openbittorrent.com%3a6969%2fannounce&tr=http%3a%2f%2ftracker.openbittorrent.com%3a80%2fannounce&tr=udp%3a%2f%2fopentracker.i2p.rocks%3a6969%2fannounce&tr=https%3a%2f%2fopentracker.i2p.rocks%3a443%2fannounce&tr=udp%3a%2f%2ftracker.torrent.eu.org%3a451%2fannounce&tr=udp%3a%2f%2ftracker.tiny-vps.com%3a6969%2fannounce&tr=udp%3a%2f%2ftracker.pomf.se%3a80%2fannounce&tr=udp%3a%2f%2ftracker.moeking.me%3a6969%2fannounce&tr=udp%3a%2f%2ftracker.dler.org%3a6969%2fannounce&tr=udp%3a%2f%2ftracker.0x.tf%3a6969%2fannounce&tr=udp%3a%2f%2fp4p.arenabg.com%3a1337%2fannounce&tr=udp%3a%2f%2fopen.stealth.si%3a80%2fannounce&tr=udp%3a%2f%2fopen.demonii.com%3a1337%2fannounce&tr=udp%3a%2f%2fmovies.zsw.ca%3a6969%2fannounce&tr=udp%3a%2f%2fipv4.tracker.harry.lu%3a80%2fannounce&tr=udp%3a%2f%2fexplodie.org%3a6969%2fannounce&tr=udp%3a%2f%2fexodus.desync.com%3a6969%2fannounce&tr=udp%3a%2f%2fbt2.archive.org%3a6969%2fannounce\"\n",
        "SEED_TIME = 0 #@param {type:\"number\"}\n",
        "FETCH_RENTRY = True #@param {type:\"boolean\"}\n",
        "\n",
        "!mkdir -p {SD_MODELS_FOLDER}\n",
        "\n",
        "models = {\n",
        "    #\n",
        "    \"Stable Diffusion v1.5\": f'aria2c --seed-time={SEED_TIME} \"magnet:?xt=urn:btih:2daef5b5f63a16a9af9169a529b1a773fc452637&dn=v1-5-pruned-emaonly.ckpt{TRACKERS}\"',\n",
        "    \"Stable Diffusion v1.4\": f'aria2c --seed-time={SEED_TIME} \"magnet:?xt=urn:btih:3A4A612D75ED088EA542ACAC52F9F45987488D1C&dn=sd-v1-4-pruned.ckpt{TRACKERS}\"',\n",
        "    \"All in one Pixel Art\": \"wget https://huggingface.co/PublicPrompts/All-In-One-Pixel-Model/resolve/main/Public-Prompts-Pixel-Model.ckpt\",\n",
        "    \"Waifu Diffusion v1.3\": 'wget https://huggingface.co/hakurei/waifu-diffusion-v1-3/resolve/main/wd-v1-3-float16.ckpt',\n",
        "    \"GG1342 (NSFW photos)\": f'aria2c --seed-time={SEED_TIME} \"magnet:?xt=urn:btih:c95e266e15e13cf0e2d69b29338a89a94d736546&dn=gg1342_testrun1_pruned.ckpt{TRACKERS}\"',\n",
        "    \"TrinArt2\": \"wget https://huggingface.co/naclbit/trinart_stable_diffusion_v2/resolve/main/trinart2_step115000.ckpt\",\n",
        "    \"Lewd Diffusion\": f'aria2c --seed-time={SEED_TIME} \"magnet:?xt=urn:btih:U5RICVYDEJL6LIJJWFKQOIVO5GMGCJNW&dn=last-pruned.ckpt&xl=3852165809{TRACKERS}\"',\n",
        "    \"yiffy-e18\": \"wget https://sexy.canine.wf/file/yiffy-ckpt/yiffy-e18.ckpt\",\n",
        "    \"Rule34\": f'aria2c --seed-time={SEED_TIME} \"magnet:?xt=urn:btih:a8f34e4f7f0bc5298516082b41b5e920b8cc483c&dn=r34_150k_epoch0-pruned-fp16.ckpt{TRACKERS}\"',\n",
        "    \"Pony Diffusion\": \"megadl https://mega.co.nz/#!ZT1xEKgC!Xxir5udMmU_mKaRZAbBkF247Yk7DqCr01V0pDzSlYI0\",\n",
        "    \"YiffMix\": \"wget https://civitai.com/api/download/models/93248?type=Model&format=PickleTensor&size=full&fp=fp32\"\n",
        "}\n",
        "\n",
        "if FETCH_RENTRY:\n",
        "  import requests\n",
        "  import re\n",
        "\n",
        "  r = requests.get(\"https://rentry.org/sdmodels/raw\").text\n",
        "  r = r.replace(\"\\r\",\"\")\n",
        "\n",
        "  links_re = re.compile('```[^`]+```')\n",
        "  dn_re = re.compile('dn=([^&]+)')\n",
        "\n",
        "  for block in links_re.findall(r):\n",
        "    try:\n",
        "      url = block.split(\"\\n\")[1]\n",
        "      name = url\n",
        "      cmd = f'aria2c \"{url}\"'\n",
        "      if url.startswith(\"magnet\"):\n",
        "        match = dn_re.search(url)\n",
        "        if match:\n",
        "          name = match.groups()[0]\n",
        "        cmd = f'aria2c --seed-time={SEED_TIME} \"{url}\"'\n",
        "      elif \"drive.google.com\" in url:\n",
        "        cmd = f'gdown --fuzzy \"{url}\"'\n",
        "      elif \"//mega\" in url:\n",
        "        url = url.replace(\"mega.nz\",\"mega.co.nz\")\n",
        "        if \"/file/\" in url:\n",
        "          url = url.replace(\"#\",\"!\")\n",
        "          url = url.replace(\"/file/\",\"/#!\")\n",
        "        cmd = f'megadl \"{url}\"'\n",
        "      elif url.endswith(\"ckpt\"):\n",
        "        name = url.split(\"/\")[-1]\n",
        "      models[name] = cmd\n",
        "    except:\n",
        "      continue\n",
        "\n",
        "keys = list(models.keys())\n",
        "import ipywidgets as widgets\n",
        "select = widgets.SelectMultiple(\n",
        "    options=keys,\n",
        "    value=keys[:1],\n",
        "    rows=min(len(keys), 20),\n",
        "    disabled=False\n",
        ")\n",
        "btn = widgets.Button(description=\"Download\")\n",
        "output = widgets.Output()\n",
        "\n",
        "display(widgets.VBox([select, btn]), output)\n",
        "\n",
        "import asyncio\n",
        "import os\n",
        "\n",
        "async def run_cmd(cmd):\n",
        "    print(f\"Running: {cmd}\")\n",
        "    proc = await asyncio.create_subprocess_shell(\n",
        "        cmd,\n",
        "        stdout=asyncio.subprocess.PIPE,\n",
        "        stderr=asyncio.subprocess.PIPE)\n",
        "\n",
        "    stdout, stderr = await proc.communicate()\n",
        "\n",
        "    print(f'[{cmd!r} exited with {proc.returncode}]')\n",
        "    if stdout:\n",
        "        print(f'[stdout]\\n{stdout.decode()}')\n",
        "    if stderr:\n",
        "        print(f'[stderr]\\n{stderr.decode()}')\n",
        "\n",
        "async def dl_models(names):\n",
        "    await asyncio.gather(*[run_cmd(models[x]) for x in names])\n",
        "\n",
        "def on_dl_btn(b):\n",
        "    %cd {SD_MODELS_FOLDER}\n",
        "    #os.popen(\"rm *\")\n",
        "    with output:\n",
        "      asyncio.run(dl_models(select.value))\n",
        "    print(\"Download done!\")\n",
        "    os.popen(\"rm *.aria2\")\n",
        "    %cd /content/stable-diffusion-webui\n",
        "\n",
        "btn.on_click(on_dl_btn)"
      ]
    },
    {
      "cell_type": "code",
      "execution_count": null,
      "metadata": {
        "cellView": "form",
        "id": "qpLKAtpOudza"
      },
      "outputs": [],
      "source": [
        "#@title Download Custom scripts\n",
        "#@markdown https://github.com/AUTOMATIC1111/stable-diffusion-webui/wiki/Custom-Scripts\n",
        "\n",
        "SD_SCRIPTS_FOLDER = \"/content/stable-diffusion-webui/scripts\"\n",
        "\n",
        "!mkdir -p {SD_SCRIPTS_FOLDER}\n",
        "\n",
        "scripts = {\n",
        "    \"Improved prompt matrix\": \"wget https://raw.githubusercontent.com/ArrowM/auto1111-improved-prompt-matrix/main/improved_prompt_matrix.py\",\n",
        "    \"txt2img2img\": \"git clone https://github.com/ThereforeGames/txt2img2img .tmp-1 && rsync -a --exclude .git .tmp-1/ ../ && rm -rf .tmp-1\",\n",
        "    \"txt2mask\": \"git clone https://github.com/ThereforeGames/txt2mask.git .tmp-2 && rsync -a --exclude .git .tmp-2/ ../ && rm -rf .tmp-2\",\n",
        "    \"Img2img Video\": \"wget https://raw.githubusercontent.com/memes-forever/Stable-diffusion-webui-video/main/videos.py\",\n",
        "    \"Seed Travel\": 'echo \"\\nmoviepy==1.0.3\" >> ../requirements.txt && wget https://raw.githubusercontent.com/yownas/seed_travel/main/scripts/seed_travel.py',\n",
        "    \"Advanced Seed Blending\": \"wget https://raw.githubusercontent.com/amotile/stable-diffusion-backend/master/src/process/implementations/automatic1111_scripts/advanced_seed_blending.py\",\n",
        "    \"Prompt Blending\": \"wget https://raw.githubusercontent.com/amotile/stable-diffusion-backend/master/src/process/implementations/automatic1111_scripts/prompt_blending.py\",\n",
        "    \"Animator\": \"wget https://raw.githubusercontent.com/Animator-Anon/Animator/main/animator_v2.py\",\n",
        "    \"Alternate Noise Schedules\": \"wget https://gist.githubusercontent.com/dfaker/f88aa62e3a14b559fe4e5f6b345db664/raw/alternate_sampler_noise_schedules.py\",\n",
        "    \"Vid2Vid\": \"wget https://raw.githubusercontent.com/Filarius/stable-diffusion-webui/master/scripts/vid2vid.py\",\n",
        "    \"Txt2VectorGraphics\": \"wget https://raw.githubusercontent.com/GeorgLegato/Txt2Vectorgraphics/main/txt2vectorgfx.py\",\n",
        "    \"Shift Attention\": 'echo \"\\nmoviepy==1.0.3\" >> ../requirements.txt && wget https://raw.githubusercontent.com/yownas/shift-attention/main/scripts/shift_attention.py',\n",
        "    \"Loopback superimpose\": \"wget https://raw.githubusercontent.com/DiceOwl/StableDiffusionStuff/main/loopback_superimpose.py\",\n",
        "    \"Interpolate\": \"wget https://raw.githubusercontent.com/DiceOwl/StableDiffusionStuff/main/interpolate.py\",\n",
        "    \"Run n times\": \"wget https://gist.githubusercontent.com/camenduru/9ec5f8141db9902e375967e93250860f/raw/run_n_times.py\",\n",
        "    \"Advanced Loopback\": \"wget https://raw.githubusercontent.com/Extraltodeus/advanced-loopback-for-sd-webui/main/advanced_loopback.py\",\n",
        "    \"prompt-morph\": 'echo \"\\nmoviepy==1.0.3\" >> ../requirements.txt && wget https://raw.githubusercontent.com/feffy380/prompt-morph/master/prompt_morph.py',\n",
        "    \"prompt interpolation\": \"wget https://raw.githubusercontent.com/EugeoSynthesisThirtyTwo/prompt-interpolation-script-for-sd-webui/main/prompt_interpolation.py\",\n",
        "    \"Force symmetry\": \"wget https://gist.githubusercontent.com/1ort/2fe6214cf1abe4c07087aac8d91d0d8a/raw/08c1e1a2b9814e603f3f99d8b5f9d5f5c268b545/force_symmetry.py\",\n",
        "    \"Asymmetric tiling\": \"wget https://raw.githubusercontent.com/tjm35/asymmetric-tiling-sd-webui/main/asymmetric_tiling.py\",\n",
        "    \"Booru tag autocompletion\": \"git clone https://github.com/DominikDoom/a1111-sd-webui-tagcomplete.git .tmp-3 && rsync -a --exclude .git .tmp-3/ ../ && rm -rf .tmp-3\",\n",
        "    \"txt2palette\": \"wget https://raw.githubusercontent.com/1ort/txt2palette/main/txt2palette.py\",\n",
        "    \"StylePile\": \"wget https://raw.githubusercontent.com/some9000/StylePile/main/StylePile.py\",\n",
        "    \"Alpha Canvas\": \"wget https://raw.githubusercontent.com/TKoestlerx/sdexperiments/alphacanvas/outpaint_region.py\",\n",
        "    \"Random\": \"wget https://raw.githubusercontent.com/lilly1987/AI-WEBUI-scripts-Random/main/scripts/Random.py\",\n",
        "    \"Aesthetic Scorer\": \"wget https://raw.githubusercontent.com/grexzen/SD-Chad/main/chad_scorer.py\",\n",
        "    \"img2tiles\": \"wget https://raw.githubusercontent.com/arcanite24/img2tiles/master/img2tiles.py\",\n",
        "    \"latent-mirroring\": \"wget https://raw.githubusercontent.com/dfaker/SD-latent-mirroring/main/latent_mirroring.py\",\n",
        "    \"Depth Maps\": \"wget https://raw.githubusercontent.com/thygate/stable-diffusion-webui-depthmap-script/main/depthmap.py\"\n",
        "}\n",
        "\n",
        "keys = list(scripts.keys())\n",
        "import ipywidgets as widgets\n",
        "select = widgets.SelectMultiple(\n",
        "    options=keys,\n",
        "    value=keys[:1],\n",
        "    rows=min(len(keys), 20),\n",
        "    disabled=False\n",
        ")\n",
        "btn = widgets.Button(description=\"Install\")\n",
        "output = widgets.Output()\n",
        "\n",
        "display(widgets.VBox([select, btn]), output)\n",
        "\n",
        "import asyncio\n",
        "import os\n",
        "\n",
        "async def run_cmd(cmd):\n",
        "    print(f\"Running: {cmd}\")\n",
        "    proc = await asyncio.create_subprocess_shell(\n",
        "        cmd,\n",
        "        stdout=asyncio.subprocess.PIPE,\n",
        "        stderr=asyncio.subprocess.PIPE)\n",
        "\n",
        "    stdout, stderr = await proc.communicate()\n",
        "\n",
        "    print(f'[{cmd!r} exited with {proc.returncode}]')\n",
        "    if stdout:\n",
        "        print(f'[stdout]\\n{stdout.decode()}')\n",
        "    if stderr:\n",
        "        print(f'[stderr]\\n{stderr.decode()}')\n",
        "\n",
        "async def dl_scripts(names):\n",
        "    await asyncio.gather(*[run_cmd(scripts[x]) for x in names])\n",
        "\n",
        "def on_dl_btn(b):\n",
        "    %cd {SD_SCRIPTS_FOLDER}\n",
        "    with output:\n",
        "      asyncio.run(dl_scripts(select.value))\n",
        "    print(\"Download done!\")\n",
        "    %cd /content/stable-diffusion-webui\n",
        "\n",
        "btn.on_click(on_dl_btn)"
      ]
    },
    {
      "cell_type": "code",
      "execution_count": null,
      "metadata": {
        "cellView": "form",
        "id": "YKw4nTSV2fX0"
      },
      "outputs": [],
      "source": [
        "#@title Download Textual Inversion Embeddings\n",
        "#@markdown https://cyberes.github.io/stable-diffusion-textual-inversion-models/\n",
        "\n",
        "SD_TI_FOLDER = \"/content/stable-diffusion-webui/embeddings\"\n",
        "\n",
        "!mkdir -p {SD_TI_FOLDER}\n",
        "\n",
        "from huggingface_hub import HfApi\n",
        "api = HfApi()\n",
        "models_list = []\n",
        "for model in api.list_models(author=\"sd-concepts-library\"):\n",
        "    models_list.append(model.modelId.replace('sd-concepts-library/', ''))\n",
        "models_list.sort()\n",
        "models_list\n",
        "\n",
        "import ipywidgets as widgets\n",
        "select = widgets.SelectMultiple(\n",
        "    options=models_list,\n",
        "    value=models_list[:1],\n",
        "    rows=min(len(models_list), 20),\n",
        "    disabled=False\n",
        ")\n",
        "btn = widgets.Button(description=\"Install\")\n",
        "output = widgets.Output()\n",
        "\n",
        "display(widgets.VBox([select, btn]), output)\n",
        "\n",
        "import asyncio\n",
        "import os\n",
        "\n",
        "async def run_cmd(cmd):\n",
        "    print(f\"Running: {cmd}\")\n",
        "    proc = await asyncio.create_subprocess_shell(\n",
        "        cmd,\n",
        "        stdout=asyncio.subprocess.PIPE,\n",
        "        stderr=asyncio.subprocess.PIPE)\n",
        "\n",
        "    stdout, stderr = await proc.communicate()\n",
        "\n",
        "    print(f'[{cmd!r} exited with {proc.returncode}]')\n",
        "    if stdout:\n",
        "        print(f'[stdout]\\n{stdout.decode()}')\n",
        "    if stderr:\n",
        "        print(f'[stderr]\\n{stderr.decode()}')\n",
        "\n",
        "async def dl_scripts(names):\n",
        "    await asyncio.gather(*[run_cmd(f\"wget -O {x}.bin https://huggingface.co/sd-concepts-library/{x}/resolve/main/learned_embeds.bin\") for x in names])\n",
        "\n",
        "def on_dl_btn(b):\n",
        "    %cd {SD_TI_FOLDER}\n",
        "    with output:\n",
        "      asyncio.run(dl_scripts(select.value))\n",
        "    print(\"Download done!\")\n",
        "    %cd /content/stable-diffusion-webui\n",
        "\n",
        "btn.on_click(on_dl_btn)"
      ]
    },
    {
      "cell_type": "code",
      "execution_count": null,
      "metadata": {
        "id": "IB19TzabDtYF"
      },
      "outputs": [],
      "source": [
        "!COMMANDLINE_ARGS=\"--exit\" REQS_FILE=\"requirements.txt\" python launch.py"
      ]
    },
    {
      "cell_type": "markdown",
      "metadata": {
        "id": "xt8lbdmC04ox"
      },
      "source": [
        "Launch web ui. You will get a link to nnn.gradio.app, follow it.\n",
        "\n",
        "Commandline arguments are:\n",
        "  - `--share` - create online gradio.app link\n",
        "  - `--gradio-debug` - print outputs to console\n",
        "  - `--gradio-auth me:qwerty` - add authentication to gradio: username me, password qwerty"
      ]
    },
    {
      "cell_type": "code",
      "execution_count": null,
      "metadata": {
        "id": "R-xAdMA5wxXd"
      },
      "outputs": [],
      "source": [
        "%cd /content/stable-diffusion-webui\n",
        "!curl eth0.me\n",
        "!npm install -g localtunnel\n",
        "!nohup lt -p 7860 > lt.log 2>&1 &\n",
        "!sleep 3\n",
        "!cat /content/stable-diffusion-webui/lt.log\n",
        "!COMMANDLINE_ARGS=\"--gradio-debug --allow-code\" REQS_FILE=\"requirements.txt\" python launch.py"
      ]
    },
    {
      "cell_type": "markdown",
      "metadata": {
        "id": "9qrpRUJpno7L"
      },
      "source": [
        "commands for ***after*** you have gotten done with a session\n",
        "============================================================================"
      ]
    },
    {
      "cell_type": "markdown",
      "metadata": {
        "id": "zB-L8JpElKp-"
      },
      "source": [
        "Zip images for downloading on local drive (click the folder icon on the left, the one below {x})"
      ]
    },
    {
      "cell_type": "code",
      "execution_count": null,
      "metadata": {
        "id": "gBt5g_Dn0NFo"
      },
      "outputs": [],
      "source": [
        "!7z a -mx=9 /content/stable-diffusion-webui/out-txt2img.zip /content/stable-diffusion-webui/outputs/txt2img-images/*\n",
        "!7z a -mx=9 /content/stable-diffusion-webui/out-img2img.zip /content/stable-diffusion-webui/outputs/img2img-images/*"
      ]
    },
    {
      "cell_type": "markdown",
      "metadata": {
        "id": "odNn2KF5lFmb"
      },
      "source": [
        "Save images to Google Drive **Warning: this will cause google to scan your drive, so if you intend to use this and worry about that kind of stuff, probablly just set this up on a clean account that's just for this colab**"
      ]
    },
    {
      "cell_type": "code",
      "execution_count": null,
      "metadata": {
        "id": "zNEgJfbhDwI6"
      },
      "outputs": [],
      "source": [
        "from google.colab import drive # type: ignore\n",
        "\n",
        "try:\n",
        "   drive_path = \"/content/drive\"\n",
        "   drive.mount(drive_path,force_remount=False)\n",
        "except:\n",
        "   print(\"...error mounting drive or with drive path variables\")\n",
        "\n",
        "!cp -r \"/content/stable-diffusion-webui/outputs\" \"/content/drive/MyDrive\""
      ]
    }
  ],
  "metadata": {
    "accelerator": "GPU",
    "colab": {
      "provenance": []
    },
    "gpuClass": "standard",
    "kernelspec": {
      "display_name": "Python 3",
      "name": "python3"
    },
    "language_info": {
      "name": "python"
    }
  },
  "nbformat": 4,
  "nbformat_minor": 0
}
